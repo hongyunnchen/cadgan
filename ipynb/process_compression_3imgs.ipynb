{
 "cells": [
  {
   "cell_type": "markdown",
   "metadata": {},
   "source": [
    "A notebook to process results of the compression task on CelebA where the input set contains three images, weighted in various ways."
   ]
  },
  {
   "cell_type": "code",
   "execution_count": null,
   "metadata": {},
   "outputs": [],
   "source": [
    "%matplotlib inline\n",
    "%load_ext autoreload\n",
    "%autoreload 2\n",
    "\n",
    "#%config InlineBackend.figure_format = 'svg'\n",
    "#%config InlineBackend.figure_format = 'pdf'"
   ]
  },
  {
   "cell_type": "code",
   "execution_count": null,
   "metadata": {},
   "outputs": [],
   "source": [
    "import kbrgan\n",
    "import kbrgan.kernel as kernel\n",
    "import kbrgan.glo as glo\n",
    "import kbrgan.main as main\n",
    "import kbrgan.net.net as net\n",
    "import kbrgan.gen as gen\n",
    "import kbrgan.plot as plot\n",
    "import kbrgan.embed as embed\n",
    "import kbrgan.util as util\n",
    "\n",
    "import matplotlib\n",
    "import matplotlib.pyplot as plt\n",
    "import os\n",
    "import numpy as np\n",
    "import scipy.stats as stats\n",
    "import torch\n",
    "import torch.nn.functional as F\n",
    "import torch.nn as nn\n",
    "import torchvision\n",
    "import torchvision.transforms as transforms"
   ]
  },
  {
   "cell_type": "code",
   "execution_count": null,
   "metadata": {},
   "outputs": [],
   "source": [
    "# font options\n",
    "font = {\n",
    "    #'family' : 'normal',\n",
    "    #'weight' : 'bold',\n",
    "    'size'   : 18\n",
    "}\n",
    "\n",
    "plt.rc('font', **font)\n",
    "plt.rc('lines', linewidth=2)\n",
    "matplotlib.rcParams['pdf.fonttype'] = 42\n",
    "matplotlib.rcParams['ps.fonttype'] = 42"
   ]
  },
  {
   "cell_type": "code",
   "execution_count": null,
   "metadata": {},
   "outputs": [],
   "source": [
    "use_cuda = True and torch.cuda.is_available()\n",
    "device = torch.device(\"cuda\" if use_cuda else \"cpu\")\n",
    "tensor_type = torch.cuda.FloatTensor if use_cuda else torch.FloatTensor\n",
    "torch.set_default_tensor_type(tensor_type)"
   ]
  },
  {
   "cell_type": "markdown",
   "metadata": {},
   "source": [
    "## Plot results"
   ]
  },
  {
   "cell_type": "code",
   "execution_count": null,
   "metadata": {},
   "outputs": [],
   "source": [
    "case_name = 'interpolation_v1'\n",
    "root_results_folder = glo.result_folder('3imgs_compression', case_name)"
   ]
  },
  {
   "cell_type": "markdown",
   "metadata": {},
   "source": [
    "Get the input images"
   ]
  },
  {
   "cell_type": "code",
   "execution_count": null,
   "metadata": {},
   "outputs": [],
   "source": [
    "os.path.isdir('/is/ei/wittawat/results/kbrgan/3imgs_compression/interpolation_v1/face_interpolation_test_0_0_1/')"
   ]
  },
  {
   "cell_type": "code",
   "execution_count": null,
   "metadata": {
    "scrolled": true
   },
   "outputs": [],
   "source": [
    "import glob\n",
    "import skimage\n",
    "    \n",
    "def get_np_input_images(root_results_folder):\n",
    "    \"\"\"\n",
    "    Return a numpy stack of input images. \n",
    "    \"\"\"\n",
    "    subfolders = glob.glob(os.path.join(root_results_folder, 'face_interpolation_test_*'))\n",
    "    subfolder2 = glob.glob(subfolders[0] + '/*')\n",
    "    input_folder = os.path.join(subfolder2[0], 'input_images')\n",
    "    input_fpaths = glob.glob(input_folder + '/*')\n",
    "    arg = np.argsort([os.path.basename(fp) for fp in input_fpaths])\n",
    "    input_fpaths = [input_fpaths[i] for i in arg]\n",
    "    list_imgs = []\n",
    "    for img_fpath in input_fpaths:\n",
    "        img = skimage.io.imread(img_fpath)\n",
    "#         print(img.shape)\n",
    "        list_imgs.append(img)\n",
    "    return np.stack(list_imgs, axis=0)"
   ]
  },
  {
   "cell_type": "code",
   "execution_count": null,
   "metadata": {},
   "outputs": [],
   "source": [
    "import skimage\n",
    "in_imgs = get_np_input_images(root_results_folder)\n",
    "for i in range(in_imgs.shape[0]):\n",
    "    plt.figure()\n",
    "    plt.imshow(in_imgs[i])"
   ]
  },
  {
   "cell_type": "code",
   "execution_count": null,
   "metadata": {},
   "outputs": [],
   "source": [
    "import re\n",
    "def get_candidate_weights(root_results_folder):\n",
    "    \"\"\"\n",
    "    Return a numpy array of size n x 3 (of type string) where \n",
    "    n is the number of candidate input weight vectors. \n",
    "    \"\"\"\n",
    "    case_folders = glob.glob(os.path.join(root_results_folder, 'face_interpolation_test*'))\n",
    "    list_weights = []\n",
    "#     pat = r'(\\d+(\\.\\d+)?)_(\\d+(\\.\\d+)?)_(\\d(\\.\\d+)?)\\.sh'\n",
    "    pat = r'face_interpolation_test_(\\d+(\\.\\d+)?)_(\\d+(\\.\\d+)?)_(\\d(\\.\\d+)?)'\n",
    "    for shf in case_folders:\n",
    "        sh_fname = os.path.basename(shf)\n",
    "#         print(sh_fname)\n",
    "        m = re.match(pat, sh_fname)\n",
    "#         print(m.group(3))\n",
    "        w = np.array([m.group(i) for i in [1,3,5]])\n",
    "        list_weights.append(w)\n",
    "    return np.stack(list_weights, axis=0)"
   ]
  },
  {
   "cell_type": "code",
   "execution_count": null,
   "metadata": {},
   "outputs": [],
   "source": [
    "np_str_weights = get_candidate_weights(root_results_folder)\n",
    "np_str_weights"
   ]
  },
  {
   "cell_type": "code",
   "execution_count": null,
   "metadata": {},
   "outputs": [],
   "source": [
    "def get_output_img(root_results_folder, weights, verbose=False):\n",
    "    \"\"\"\n",
    "    Return the output image (assume there is only one) given \n",
    "    one vector of input weights.\n",
    "    \n",
    "    * weights: a numpy array with one dimension. Each value is a string.\n",
    "    \"\"\"\n",
    "    subfolder = 'face_interpolation_test_{}_{}_{}'.format(*weights)\n",
    "    case_path = os.path.join(root_results_folder, subfolder )\n",
    "    subfolders = glob.glob(case_path)\n",
    "    subfolder2 = glob.glob(subfolders[0] + '/*')\n",
    "    \n",
    "    output_folder = os.path.join(subfolder2[0], 'output_images')\n",
    "    iter_fpaths = glob.glob(output_folder + '/*')\n",
    "#     print([os.path.basename(fname) for fname in iter_fpaths])\n",
    "    arg = np.argsort([int(os.path.basename(fname)) for fname in iter_fpaths])\n",
    "    # highest iteration\n",
    "    last_iter_folder = iter_fpaths[arg[-1]]\n",
    "    out_fpaths = glob.glob(last_iter_folder + '/*')\n",
    "    # expect only one output image\n",
    "    assert len(out_fpaths) == 1\n",
    "    \n",
    "    # load the image\n",
    "    if verbose:\n",
    "        print('Loading output image: {}'.format(out_fpaths[0]))\n",
    "    return skimage.io.imread(out_fpaths[0])\n",
    "    "
   ]
  },
  {
   "cell_type": "code",
   "execution_count": null,
   "metadata": {
    "scrolled": true
   },
   "outputs": [],
   "source": [
    "# Test get_output_img()\n",
    "img = get_output_img(root_results_folder, np_str_weights[0])\n",
    "plt.imshow(img)"
   ]
  },
  {
   "cell_type": "code",
   "execution_count": null,
   "metadata": {},
   "outputs": [],
   "source": [
    "# load all output images. Each output image corresponds to one input weight vector\n",
    "list_out_imgs = []\n",
    "for i, weights in enumerate(np_str_weights):\n",
    "    loaded = get_output_img(root_results_folder, weights)\n",
    "    list_out_imgs.append(loaded)\n",
    "    \n",
    "# stack\n",
    "out_imgs = np.stack(list_out_imgs, axis=0)"
   ]
  },
  {
   "cell_type": "code",
   "execution_count": null,
   "metadata": {},
   "outputs": [],
   "source": [
    "# show input images\n",
    "print('Input images')\n",
    "for i in range(in_imgs.shape[0]):\n",
    "    plt.figure()\n",
    "    plt.imshow(in_imgs[i])"
   ]
  },
  {
   "cell_type": "code",
   "execution_count": null,
   "metadata": {
    "scrolled": false
   },
   "outputs": [],
   "source": [
    "for i in range(out_imgs.shape[0]):\n",
    "    oimg = out_imgs[i]\n",
    "    plt.figure()\n",
    "    plt.imshow(oimg)\n",
    "    Wi = np_str_weights[i]\n",
    "    plt.title('in weights: {}, {}, {}'.format(Wi[0], Wi[1], Wi[2]))"
   ]
  },
  {
   "cell_type": "code",
   "execution_count": null,
   "metadata": {},
   "outputs": [],
   "source": []
  },
  {
   "cell_type": "code",
   "execution_count": null,
   "metadata": {},
   "outputs": [],
   "source": []
  },
  {
   "cell_type": "code",
   "execution_count": null,
   "metadata": {},
   "outputs": [],
   "source": []
  },
  {
   "cell_type": "code",
   "execution_count": null,
   "metadata": {},
   "outputs": [],
   "source": []
  },
  {
   "cell_type": "code",
   "execution_count": null,
   "metadata": {},
   "outputs": [],
   "source": []
  },
  {
   "cell_type": "code",
   "execution_count": null,
   "metadata": {},
   "outputs": [],
   "source": []
  },
  {
   "cell_type": "code",
   "execution_count": null,
   "metadata": {},
   "outputs": [],
   "source": []
  },
  {
   "cell_type": "code",
   "execution_count": null,
   "metadata": {},
   "outputs": [],
   "source": []
  },
  {
   "cell_type": "code",
   "execution_count": null,
   "metadata": {},
   "outputs": [],
   "source": []
  },
  {
   "cell_type": "code",
   "execution_count": null,
   "metadata": {},
   "outputs": [],
   "source": []
  },
  {
   "cell_type": "code",
   "execution_count": null,
   "metadata": {},
   "outputs": [],
   "source": []
  }
 ],
 "metadata": {
  "kernelspec": {
   "display_name": "Python 3",
   "language": "python",
   "name": "python3"
  },
  "language_info": {
   "codemirror_mode": {
    "name": "ipython",
    "version": 3
   },
   "file_extension": ".py",
   "mimetype": "text/x-python",
   "name": "python",
   "nbconvert_exporter": "python",
   "pygments_lexer": "ipython3",
   "version": "3.6.6"
  }
 },
 "nbformat": 4,
 "nbformat_minor": 2
}
