{
 "cells": [
  {
   "cell_type": "markdown",
   "metadata": {},
   "source": [
    "A notebook to process results saved as pandas data frames (i.e., combined Tensorboard logs)."
   ]
  },
  {
   "cell_type": "code",
   "execution_count": 28,
   "metadata": {
    "scrolled": true
   },
   "outputs": [
    {
     "name": "stdout",
     "output_type": "stream",
     "text": [
      "The autoreload extension is already loaded. To reload it, use:\n",
      "  %reload_ext autoreload\n"
     ]
    }
   ],
   "source": [
    "%matplotlib inline\n",
    "%load_ext autoreload\n",
    "%autoreload 2\n",
    "\n",
    "#%config InlineBackend.figure_format = 'svg'\n",
    "#%config InlineBackend.figure_format = 'pdf'"
   ]
  },
  {
   "cell_type": "code",
   "execution_count": 29,
   "metadata": {},
   "outputs": [],
   "source": [
    "import matplotlib\n",
    "import matplotlib.pyplot as plt\n",
    "import pandas as pd\n",
    "import os\n",
    "import autograd.numpy as np\n",
    "import scipy.stats as stats\n",
    "import torch\n",
    "import tensorflow as tf"
   ]
  },
  {
   "cell_type": "code",
   "execution_count": 30,
   "metadata": {},
   "outputs": [],
   "source": [
    "import cadgan\n",
    "import cadgan.glo as glo\n",
    "import cadgan.imutil as imutil\n",
    "import cadgan.ex.df as dfutil\n",
    "import cadgan.util as util\n",
    "import IPython"
   ]
  },
  {
   "cell_type": "markdown",
   "metadata": {},
   "source": [
    "## Load dataframe file"
   ]
  },
  {
   "cell_type": "code",
   "execution_count": 34,
   "metadata": {},
   "outputs": [],
   "source": [
    "# df = pd.read_pickle(glo.share_path('dataframe_results','face_n1_vgglayers_lr'))\n",
    "# fname = 'face_n1_vgglayers_lr'\n",
    "# fname = 'bedroom_all.pkl'\n",
    "fname = 'bedroom_kernels.pkl'\n",
    "# fname = 'bridge_all.pkl'\n",
    "# fname = 'cub_all.pkl'\n",
    "# fname = 'celeba_all.pkl'\n",
    "# fname = 'tower_all.pkl'\n",
    "df_fpath = glo.result_folder('dataframe_results', fname)\n",
    "df = pd.read_pickle(df_fpath)"
   ]
  },
  {
   "cell_type": "code",
   "execution_count": 35,
   "metadata": {},
   "outputs": [],
   "source": [
    "def write_text(fname, content):\n",
    "    with open(fname, 'w') as f:\n",
    "        f.write(content)"
   ]
  },
  {
   "cell_type": "markdown",
   "metadata": {},
   "source": [
    "## Display images in a dataframe"
   ]
  },
  {
   "cell_type": "code",
   "execution_count": 36,
   "metadata": {
    "scrolled": true
   },
   "outputs": [
    {
     "data": {
      "text/plain": [
       "array(['cond_feat', 'cond_imgs', 'cond_path', 'depth_process', 'device',\n",
       "       'extractor_layers', 'extractor_type', 'feat_imgs', 'g_max',\n",
       "       'g_min', 'g_path', 'g_type', 'img_log_steps', 'img_size',\n",
       "       'ini_imgs', 'iteration', 'kernel', 'kparams', 'log_path', 'logdir',\n",
       "       'lr', 'n_init_resample', 'n_opt_iter', 'n_sample', 'out_imgs',\n",
       "       'prior_ini', 'seed', 'texture', 'w_input', 'zpen'], dtype=object)"
      ]
     },
     "execution_count": 36,
     "metadata": {},
     "output_type": "execute_result"
    }
   ],
   "source": [
    "df.columns.values"
   ]
  },
  {
   "cell_type": "markdown",
   "metadata": {},
   "source": [
    "List unique values for relevant columns"
   ]
  },
  {
   "cell_type": "code",
   "execution_count": 37,
   "metadata": {},
   "outputs": [
    {
     "name": "stdout",
     "output_type": "stream",
     "text": [
      "# cond_path\n",
      "['/notebooks/psangkloy3/gdrive/condgan_share/sample_list/bedroom_list/files_n2_6.txt'\n",
      " '/notebooks/psangkloy3/gdrive/condgan_share/sample_list/bedroom_list/files_n2_2.txt'\n",
      " '/notebooks/psangkloy3/gdrive/condgan_share/sample_list/bedroom_list/files_n2_5.txt'\n",
      " '/notebooks/psangkloy3/gdrive/condgan_share/sample_list/bedroom_list/files_n2_3.txt'\n",
      " '/notebooks/psangkloy3/gdrive/condgan_share/sample_list/bedroom_list/files_n1_3.txt'\n",
      " '/notebooks/psangkloy3/gdrive/condgan_share/sample_list/bedroom_list/files_n2_8.txt'\n",
      " '/notebooks/psangkloy3/gdrive/condgan_share/sample_list/bedroom_list/files_n2_10.txt'\n",
      " '/notebooks/psangkloy3/gdrive/condgan_share/sample_list/bedroom_list/files_n2_7.txt'\n",
      " '/notebooks/psangkloy3/gdrive/condgan_share/sample_list/bedroom_list/files_n1_2.txt'\n",
      " '/notebooks/psangkloy3/gdrive/condgan_share/sample_list/bedroom_list/files_n2_1.txt'\n",
      " '/notebooks/psangkloy3/gdrive/condgan_share/sample_list/bedroom_list/files_n2_9.txt'\n",
      " '/notebooks/psangkloy3/gdrive/condgan_share/sample_list/bedroom_list/files_n1_4.txt'\n",
      " '/notebooks/psangkloy3/gdrive/condgan_share/sample_list/bedroom_list/files_n1_1.txt'\n",
      " '/notebooks/psangkloy3/gdrive/condgan_share/sample_list/bedroom_list/files_n1_5.txt'\n",
      " '/notebooks/psangkloy3/gdrive/condgan_share/sample_list/bedroom_list/files_n2_4.txt']\n",
      "\n",
      "# extractor_layers\n",
      "[\"['17']\"]\n",
      "\n",
      "# extractor_type\n",
      "['resnet50_365']\n",
      "\n",
      "# kernel\n",
      "['linear' 'imq']\n",
      "\n",
      "# kparams\n",
      "['[]' '[-0.5, 10.0]' '[-0.5, 100.0]' '[-0.5, 1.0]']\n",
      "\n",
      "# lr\n",
      "['0.05']\n",
      "\n",
      "# n_init_resample\n",
      "['40.0']\n",
      "\n",
      "# n_sample\n",
      "['3' '6' '1']\n",
      "\n",
      "# zpen\n",
      "['TPSymLogBarrier(b=4.2,s=0.0001)']\n",
      "\n"
     ]
    }
   ],
   "source": [
    "uniq_cols = ['cond_path', 'extractor_layers', 'extractor_type', 'kernel', \n",
    "             'kparams', 'lr', 'n_init_resample','n_sample', 'zpen']\n",
    "for c in uniq_cols:\n",
    "    print('# {}'.format(c))\n",
    "    print(df[c].unique())\n",
    "    print()"
   ]
  },
  {
   "cell_type": "code",
   "execution_count": 38,
   "metadata": {},
   "outputs": [],
   "source": [
    "#filter parameters to show\n",
    "# df = df[['cond_imgs','out_imgs','lr','extractor_layers','iteration','img_size','extractor_type','cond_path']] \n",
    "df_sliced = df[['cond_path', 'cond_imgs','ini_imgs', 'out_imgs', \n",
    "                'n_init_resample',\n",
    "                'n_sample',\n",
    "                'kernel', \n",
    "                'kparams', \n",
    "                  'lr',\n",
    "                'extractor_type',\n",
    "                'extractor_layers', \n",
    "                'log_path',\n",
    "#                 'zpen'\n",
    "               ]] \n",
    "df_sliced = df_sliced.sort_values(by=['cond_path', 'n_sample', 'kernel'])\n",
    "df_sliced = df_sliced.drop(columns=['cond_path', 'n_sample'])"
   ]
  },
  {
   "cell_type": "code",
   "execution_count": 39,
   "metadata": {
    "scrolled": false
   },
   "outputs": [
    {
     "name": "stdout",
     "output_type": "stream",
     "text": [
      "writing to bedroom_kernels.pkl-all.html\n"
     ]
    }
   ],
   "source": [
    "images_formatter = lambda imgs: dfutil.images_formatter(imgs, col=2, width=96)\n",
    "html = dfutil.df_to_html(df_sliced, img_formatter=images_formatter)\n",
    "IPython.display.HTML(html) \n",
    "\n",
    "write_fname = '{}-all.html'.format(fname)\n",
    "print('writing to {}'.format(write_fname))\n",
    "write_text(fname=write_fname, content=html)"
   ]
  },
  {
   "cell_type": "code",
   "execution_count": 40,
   "metadata": {
    "scrolled": true
   },
   "outputs": [],
   "source": [
    "def filter_save(df, filters):\n",
    "    df_filtered = df\n",
    "    \n",
    "    for fil in filters:\n",
    "        col, val = fil\n",
    "        df_filtered = df_filtered.loc[ (df_filtered[col]==val) ]\n",
    "    filters_summary ='_'.join(['{}{}'.format(c, v) for (c,v) in filters])\n",
    "    # df_filtered = df_sliced.loc[ ( df_sliced['lr']==\"0.05\") ]\n",
    "\n",
    "    html = dfutil.df_to_html(df_filtered)\n",
    "    write_text(fname='{}-{}.html'.format(fname, filters_summary), content=html)\n",
    "# IPython.display.HTML(html)"
   ]
  },
  {
   "cell_type": "code",
   "execution_count": 41,
   "metadata": {},
   "outputs": [],
   "source": [
    "filters = [('lr', '0.05')]\n",
    "filter_save(df_sliced, filters)"
   ]
  },
  {
   "cell_type": "code",
   "execution_count": 42,
   "metadata": {},
   "outputs": [],
   "source": [
    "filters = [('lr', '0.05'), ('kernel', 'linear')]\n",
    "filter_save(df_sliced, filters)"
   ]
  },
  {
   "cell_type": "code",
   "execution_count": 43,
   "metadata": {},
   "outputs": [],
   "source": [
    "filters = [('lr', '0.05'), ('kernel', 'imq')]\n",
    "filter_save(df_sliced, filters)"
   ]
  },
  {
   "cell_type": "markdown",
   "metadata": {},
   "source": [
    "--------"
   ]
  },
  {
   "cell_type": "code",
   "execution_count": 15,
   "metadata": {},
   "outputs": [],
   "source": [
    "#do some filtering based on parameters, you can google dataframe querying for a more advance usage\n",
    "df_final = df\n",
    "\n",
    "#filter from parameter value, can also use &\n",
    "df_final = df_final.loc[df_final['cond_path']=='/notebooks/psangkloy3/gdrive/condgan_share/face_train_list/files_n1_3.txt']\n",
    "df_final = df_final.loc[df_final['lr']=='0.05']\n",
    "df_final = df_final.loc[(df_final['extractor_layers']==\"['35']\") | (df_final['extractor_layers']==\"['17']\" )]\n"
   ]
  },
  {
   "cell_type": "code",
   "execution_count": 16,
   "metadata": {},
   "outputs": [],
   "source": [
    "#save results to html file\n",
    "with open('bird_hed.html','w+') as f:\n",
    "    f.write(html)"
   ]
  },
  {
   "cell_type": "code",
   "execution_count": null,
   "metadata": {},
   "outputs": [],
   "source": []
  },
  {
   "cell_type": "code",
   "execution_count": null,
   "metadata": {},
   "outputs": [],
   "source": []
  },
  {
   "cell_type": "code",
   "execution_count": null,
   "metadata": {},
   "outputs": [],
   "source": []
  },
  {
   "cell_type": "code",
   "execution_count": null,
   "metadata": {},
   "outputs": [],
   "source": []
  },
  {
   "cell_type": "code",
   "execution_count": null,
   "metadata": {},
   "outputs": [],
   "source": []
  },
  {
   "cell_type": "code",
   "execution_count": null,
   "metadata": {},
   "outputs": [],
   "source": []
  },
  {
   "cell_type": "code",
   "execution_count": null,
   "metadata": {},
   "outputs": [],
   "source": []
  },
  {
   "cell_type": "code",
   "execution_count": null,
   "metadata": {},
   "outputs": [],
   "source": []
  }
 ],
 "metadata": {
  "kernelspec": {
   "display_name": "Python 3",
   "language": "python",
   "name": "python3"
  },
  "language_info": {
   "codemirror_mode": {
    "name": "ipython",
    "version": 3
   },
   "file_extension": ".py",
   "mimetype": "text/x-python",
   "name": "python",
   "nbconvert_exporter": "python",
   "pygments_lexer": "ipython3",
   "version": "3.6.6"
  }
 },
 "nbformat": 4,
 "nbformat_minor": 2
}
