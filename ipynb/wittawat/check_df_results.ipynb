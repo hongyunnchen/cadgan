{
 "cells": [
  {
   "cell_type": "markdown",
   "metadata": {},
   "source": [
    "A notebook to process results saved as pandas data frames (i.e., combined Tensorboard logs)."
   ]
  },
  {
   "cell_type": "code",
   "execution_count": null,
   "metadata": {},
   "outputs": [],
   "source": [
    "%matplotlib inline\n",
    "%load_ext autoreload\n",
    "%autoreload 2\n",
    "\n",
    "#%config InlineBackend.figure_format = 'svg'\n",
    "#%config InlineBackend.figure_format = 'pdf'"
   ]
  },
  {
   "cell_type": "code",
   "execution_count": null,
   "metadata": {},
   "outputs": [],
   "source": [
    "import matplotlib\n",
    "import matplotlib.pyplot as plt\n",
    "import pandas as pd\n",
    "import os\n",
    "import autograd.numpy as np\n",
    "import scipy.stats as stats\n",
    "import torch\n",
    "import tensorflow as tf"
   ]
  },
  {
   "cell_type": "code",
   "execution_count": null,
   "metadata": {},
   "outputs": [],
   "source": [
    "import kbrgan\n",
    "import kbrgan.glo as glo\n",
    "import kbrgan.imutil as imutil\n",
    "import kbrgan.ex.df as dfutil\n",
    "import kbrgan.util as util\n",
    "import IPython"
   ]
  },
  {
   "cell_type": "markdown",
   "metadata": {},
   "source": [
    "## Load dataframe file"
   ]
  },
  {
   "cell_type": "code",
   "execution_count": null,
   "metadata": {},
   "outputs": [],
   "source": [
    "# df = pd.read_pickle(glo.share_path('dataframe_results','face_n1_vgglayers_lr'))\n",
    "# fname = 'face_n1_vgglayers_lr'\n",
    "# fname = 'bedroom_all'\n",
    "# fname = 'bridge_all'\n",
    "# fname = 'cub_all.pkl'\n",
    "fname = 'tower_all.pkl'\n",
    "df_fpath = glo.result_folder('dataframe_results', fname)\n",
    "df = pd.read_pickle(df_fpath)"
   ]
  },
  {
   "cell_type": "code",
   "execution_count": null,
   "metadata": {},
   "outputs": [],
   "source": [
    "def write_text(fname, content):\n",
    "    with open(fname, 'w') as f:\n",
    "        f.write(content)"
   ]
  },
  {
   "cell_type": "markdown",
   "metadata": {},
   "source": [
    "## Display images in a dataframe"
   ]
  },
  {
   "cell_type": "code",
   "execution_count": null,
   "metadata": {
    "scrolled": true
   },
   "outputs": [],
   "source": [
    "df.columns.values"
   ]
  },
  {
   "cell_type": "code",
   "execution_count": null,
   "metadata": {},
   "outputs": [],
   "source": [
    "#filter parameters to show\n",
    "# df = df[['cond_imgs','out_imgs','lr','extractor_layers','iteration','img_size','extractor_type','cond_path']] \n",
    "df_sliced = df[['cond_imgs','ini_imgs', 'out_imgs', 'kernel', 'kparams', \n",
    "                  'lr','extractor_layers', \n",
    "#                 'zpen'\n",
    "               ]] \n"
   ]
  },
  {
   "cell_type": "code",
   "execution_count": null,
   "metadata": {
    "scrolled": false
   },
   "outputs": [],
   "source": [
    "images_formatter = lambda imgs: dfutil.images_formatter(imgs, col=2, width=96)\n",
    "html = dfutil.df_to_html(df_sliced, images_formatter=images_formatter)\n",
    "IPython.display.HTML(html) \n",
    "\n",
    "write_text(fname='{}-all.html'.format(fname), content=html)"
   ]
  },
  {
   "cell_type": "code",
   "execution_count": null,
   "metadata": {
    "scrolled": true
   },
   "outputs": [],
   "source": [
    "df_filtered = df_sliced.loc[df_sliced['extractor_layers']==\"['17']\"]\n",
    "IPython.display.HTML(dfutil.df_to_html(df_filtered))"
   ]
  },
  {
   "cell_type": "markdown",
   "metadata": {},
   "source": [
    "--------"
   ]
  },
  {
   "cell_type": "code",
   "execution_count": null,
   "metadata": {},
   "outputs": [],
   "source": [
    "#do some filtering based on parameters, you can google dataframe querying for a more advance usage\n",
    "df_final = df\n",
    "\n",
    "#filter from parameter value, can also use &\n",
    "df_final = df_final.loc[df_final['cond_path']=='/notebooks/psangkloy3/gdrive/condgan_share/face_train_list/files_n1_3.txt']\n",
    "df_final = df_final.loc[df_final['lr']=='0.05']\n",
    "df_final = df_final.loc[(df_final['extractor_layers']==\"['35']\") | (df_final['extractor_layers']==\"['17']\" )]\n"
   ]
  },
  {
   "cell_type": "code",
   "execution_count": null,
   "metadata": {},
   "outputs": [],
   "source": [
    "#save results to html file\n",
    "with open('bird_hed.html','w+') as f:\n",
    "    f.write(html)"
   ]
  },
  {
   "cell_type": "code",
   "execution_count": null,
   "metadata": {},
   "outputs": [],
   "source": []
  },
  {
   "cell_type": "code",
   "execution_count": null,
   "metadata": {},
   "outputs": [],
   "source": []
  },
  {
   "cell_type": "code",
   "execution_count": null,
   "metadata": {},
   "outputs": [],
   "source": []
  },
  {
   "cell_type": "code",
   "execution_count": null,
   "metadata": {},
   "outputs": [],
   "source": []
  },
  {
   "cell_type": "code",
   "execution_count": null,
   "metadata": {},
   "outputs": [],
   "source": []
  },
  {
   "cell_type": "code",
   "execution_count": null,
   "metadata": {},
   "outputs": [],
   "source": []
  },
  {
   "cell_type": "code",
   "execution_count": null,
   "metadata": {},
   "outputs": [],
   "source": []
  },
  {
   "cell_type": "code",
   "execution_count": null,
   "metadata": {},
   "outputs": [],
   "source": []
  }
 ],
 "metadata": {
  "kernelspec": {
   "display_name": "Python 3",
   "language": "python",
   "name": "python3"
  },
  "language_info": {
   "codemirror_mode": {
    "name": "ipython",
    "version": 3
   },
   "file_extension": ".py",
   "mimetype": "text/x-python",
   "name": "python",
   "nbconvert_exporter": "python",
   "pygments_lexer": "ipython3",
   "version": "3.6.6"
  }
 },
 "nbformat": 4,
 "nbformat_minor": 2
}
