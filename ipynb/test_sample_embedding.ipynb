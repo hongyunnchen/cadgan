{
 "cells": [
  {
   "cell_type": "code",
   "execution_count": null,
   "metadata": {},
   "outputs": [],
   "source": [
    "%matplotlib inline\n",
    "%load_ext autoreload\n",
    "%autoreload 2\n",
    "\n",
    "#%config InlineBackend.figure_format = 'svg'\n",
    "#%config InlineBackend.figure_format = 'pdf'"
   ]
  },
  {
   "cell_type": "code",
   "execution_count": null,
   "metadata": {},
   "outputs": [],
   "source": [
    "import kbrgan\n",
    "import kbrgan.kernel as kernel\n",
    "import kbrgan.main as main\n",
    "import kbrgan.embed as embed\n",
    "import kbrgan.util as util\n",
    "\n",
    "import matplotlib\n",
    "import matplotlib.pyplot as plt\n",
    "import os\n",
    "import autograd.numpy as np\n",
    "import scipy.stats as stats\n",
    "import torch"
   ]
  },
  {
   "cell_type": "code",
   "execution_count": null,
   "metadata": {},
   "outputs": [],
   "source": [
    "# font options\n",
    "font = {\n",
    "    #'family' : 'normal',\n",
    "    #'weight' : 'bold',\n",
    "    'size'   : 18\n",
    "}\n",
    "\n",
    "plt.rc('font', **font)\n",
    "plt.rc('lines', linewidth=2)\n",
    "matplotlib.rcParams['pdf.fonttype'] = 42\n",
    "matplotlib.rcParams['ps.fonttype'] = 42"
   ]
  },
  {
   "cell_type": "markdown",
   "metadata": {},
   "source": [
    "## Kernel embedding in 2D"
   ]
  },
  {
   "cell_type": "code",
   "execution_count": null,
   "metadata": {},
   "outputs": [],
   "source": [
    "d = 2\n",
    "n = 500\n",
    "seed = 7\n",
    "torch.manual_seed(seed);"
   ]
  },
  {
   "cell_type": "code",
   "execution_count": null,
   "metadata": {
    "scrolled": true
   },
   "outputs": [],
   "source": [
    "X = torch.randn(n, d) + torch.tensor([-3, 3.0])\n",
    "Xnp = X.numpy()\n",
    "plt.plot(Xnp[:, 0], Xnp[:, 1], 'ko');"
   ]
  },
  {
   "cell_type": "code",
   "execution_count": null,
   "metadata": {},
   "outputs": [],
   "source": [
    "med = util.meddistance(X.numpy(), subsample=1000)\n",
    "print('median distance: ', med)\n",
    "# Gaussian kernel\n",
    "k = kernel.PTKGauss(sigma2=med**2/2)\n",
    "# k = kernel.PTKPoly(c=1.0, d=2)\n",
    "# k = kernel.PTKLinear()\n",
    "# create a mean embedding\n",
    "em = embed.PTImplicitKEmb(k, X)"
   ]
  },
  {
   "cell_type": "markdown",
   "metadata": {},
   "source": [
    "## Optimize points jointly to minimize the moment matching loss"
   ]
  },
  {
   "cell_type": "code",
   "execution_count": null,
   "metadata": {},
   "outputs": [],
   "source": [
    "\"\"\"\n",
    "Sample from a mean embedding by performing kernel moment matching.\n",
    "\"\"\";\n",
    "n_sample = 10\n",
    "\n",
    "# Y = stack of output samples to be optimized.\n",
    "# Initialize by picking a subset from X\n",
    "# Y = torch.tensor(X[np.random.choice(n, n_sample)] + torch.randn(n_sample, d)*0.1, requires_grad=True)\n",
    "\n",
    "# initialize randomly\n",
    "Y = torch.tensor(np.random.randn(n_sample, d), dtype=torch.float, requires_grad=True)\n",
    "Y0 = Y.detach().clone()\n",
    "Y0np = Y0.numpy()"
   ]
  },
  {
   "cell_type": "code",
   "execution_count": null,
   "metadata": {},
   "outputs": [],
   "source": [
    "# optimizer = torch.optim.Adam([Y], lr=1e-2)\n",
    "# optimizer = torch.optim.SGD([Y], lr=5e-3)\n",
    "optimizer = torch.optim.RMSprop([Y], lr=5e-2)\n",
    "# optimization\n",
    "n_iter = 500\n",
    "losses = []\n",
    "Kxx_term = k.eval(X, X).mv(em.weights).dot(em.weights)\n",
    "for t in range(n_iter):\n",
    "    # regularization to prevent things from blowing up\n",
    "#     reg = 1e-5*torch.mean(torch.sum(Y**2, 1))\n",
    "    reg = 0\n",
    "    loss =  torch.mean(k.eval(Y, Y)) - 2.0*torch.mean(k.eval(Y, X).mv(em.weights))  + Kxx_term + reg\n",
    "    losses.append(loss.item())\n",
    "    optimizer.zero_grad()\n",
    "    \n",
    "    # compute the gradients\n",
    "    loss.backward()\n",
    "    # updates\n",
    "    optimizer.step()\n",
    "    "
   ]
  },
  {
   "cell_type": "code",
   "execution_count": null,
   "metadata": {
    "scrolled": false
   },
   "outputs": [],
   "source": [
    "plt.plot(np.arange(n_iter)+1, losses, 'b-')\n",
    "plt.ylabel('Moment matching loss')\n",
    "plt.xlabel('Iteration')"
   ]
  },
  {
   "cell_type": "code",
   "execution_count": null,
   "metadata": {},
   "outputs": [],
   "source": [
    "Ynp = Y.detach().clone().numpy()\n",
    "plt.figure(figsize=(8, 6))\n",
    "plt.plot(Xnp[:, 0], Xnp[:, 1], 'ko', label='Data', alpha=0.4);\n",
    "plt.plot(Y0np[:, 0], Y0np[:, 1], 'sb', markersize=11, alpha=0.7, label='Initial')\n",
    "plt.plot(Ynp[:, 0], Ynp[:, 1], '^r', markersize=11, alpha=0.7, label='Optimized')\n",
    "plt.legend()"
   ]
  },
  {
   "cell_type": "markdown",
   "metadata": {},
   "source": [
    "## Kernel herding (greedy optimization)"
   ]
  },
  {
   "cell_type": "code",
   "execution_count": null,
   "metadata": {},
   "outputs": [],
   "source": [
    "n_sample = 10\n",
    "# number of optimization iterations for each point yt\n",
    "n_iter = 500\n",
    "\n",
    "def fn_make_optimizer(params):\n",
    "    return torch.optim.RMSprop(params, lr=5e-2)\n",
    "#     return torch.optim.Adam(params, lr=1e-2)\n",
    "#     return torch.optim.SGD(params, lr=1e-3)\n",
    "Y_greedy, Y0 = embed.kernel_herding(em, n_sample, fn_make_optimizer, n_iter)"
   ]
  },
  {
   "cell_type": "code",
   "execution_count": null,
   "metadata": {},
   "outputs": [],
   "source": [
    "Ynp = Y_greedy.detach().numpy()\n",
    "Y0np = Y0.detach().numpy()\n",
    "\n",
    "plt.figure(figsize=(8, 6))\n",
    "plt.plot(Xnp[:, 0], Xnp[:, 1], 'ko', label='Data', alpha=0.4);\n",
    "plt.plot(Y0np[:, 0], Y0np[:, 1], 'sb', markersize=11, alpha=0.7, label='Initial')\n",
    "plt.plot(Ynp[:, 0], Ynp[:, 1], '^r', markersize=11, alpha=0.7, label='Optimized')\n",
    "plt.legend()"
   ]
  },
  {
   "cell_type": "code",
   "execution_count": null,
   "metadata": {},
   "outputs": [],
   "source": []
  },
  {
   "cell_type": "code",
   "execution_count": null,
   "metadata": {},
   "outputs": [],
   "source": []
  },
  {
   "cell_type": "code",
   "execution_count": null,
   "metadata": {},
   "outputs": [],
   "source": []
  },
  {
   "cell_type": "code",
   "execution_count": null,
   "metadata": {},
   "outputs": [],
   "source": []
  },
  {
   "cell_type": "code",
   "execution_count": null,
   "metadata": {},
   "outputs": [],
   "source": []
  },
  {
   "cell_type": "code",
   "execution_count": null,
   "metadata": {},
   "outputs": [],
   "source": []
  },
  {
   "cell_type": "code",
   "execution_count": null,
   "metadata": {},
   "outputs": [],
   "source": []
  },
  {
   "cell_type": "code",
   "execution_count": null,
   "metadata": {},
   "outputs": [],
   "source": []
  },
  {
   "cell_type": "code",
   "execution_count": null,
   "metadata": {},
   "outputs": [],
   "source": []
  },
  {
   "cell_type": "code",
   "execution_count": null,
   "metadata": {},
   "outputs": [],
   "source": []
  },
  {
   "cell_type": "code",
   "execution_count": null,
   "metadata": {},
   "outputs": [],
   "source": []
  },
  {
   "cell_type": "code",
   "execution_count": null,
   "metadata": {},
   "outputs": [],
   "source": []
  },
  {
   "cell_type": "code",
   "execution_count": null,
   "metadata": {},
   "outputs": [],
   "source": []
  },
  {
   "cell_type": "code",
   "execution_count": null,
   "metadata": {},
   "outputs": [],
   "source": []
  }
 ],
 "metadata": {
  "kernelspec": {
   "display_name": "Python 3",
   "language": "python",
   "name": "python3"
  },
  "language_info": {
   "codemirror_mode": {
    "name": "ipython",
    "version": 3
   },
   "file_extension": ".py",
   "mimetype": "text/x-python",
   "name": "python",
   "nbconvert_exporter": "python",
   "pygments_lexer": "ipython3",
   "version": "3.6.6"
  }
 },
 "nbformat": 4,
 "nbformat_minor": 2
}
