{
 "cells": [
  {
   "cell_type": "code",
   "execution_count": 1,
   "metadata": {},
   "outputs": [],
   "source": [
    "import cmdprod as cp\n",
    "import os\n",
    "import kbrgan.glo as glo"
   ]
  },
  {
   "cell_type": "code",
   "execution_count": 9,
   "metadata": {},
   "outputs": [],
   "source": [
    "import kbrgan.ex.exutil as exu\n",
    "import random\n",
    "\n",
    "list_files = exu.list_files_of_extensions(glo.share_path('sample_list/celeba_list'),['.txt'])\n"
   ]
  },
  {
   "cell_type": "code",
   "execution_count": 11,
   "metadata": {},
   "outputs": [
    {
     "data": {
      "text/plain": [
       "15"
      ]
     },
     "execution_count": 11,
     "metadata": {},
     "output_type": "execute_result"
    }
   ],
   "source": [
    "len(list_files)"
   ]
  },
  {
   "cell_type": "code",
   "execution_count": 43,
   "metadata": {},
   "outputs": [],
   "source": [
    "def args_spec(logdir, list_extractor_type=['vgg_face'],\n",
    "              list_extractor_layers=['8 17 26 35'],):\n",
    "    '''\n",
    "    Return a specification arguments (including candidate values) for \n",
    "    an experiment with Lars's models.\n",
    "    \n",
    "    #!/bin/bash\n",
    "\n",
    "    python3 run_lars_gkmm.py \\\n",
    "        --extractor_type vgg_face \\\n",
    "        --extractor_layers 8 17 26 35 \\\n",
    "        --texture 1\\\n",
    "        --depth_process no \\\n",
    "        --g_path gan_data/celebAHQ_00/chkpts/model.pt \\\n",
    "        --g_type celebAHQ.yaml \\\n",
    "        --g_min -1.0 \\\n",
    "        --g_max 1.0 \\\n",
    "        --logdir log_lars_celeba_vggface/ \\\n",
    "        --device gpu \\\n",
    "        --n_sample 1 \\\n",
    "        --n_opt_iter 3000 \\\n",
    "        --lr 1e-1 \\\n",
    "        --seed 9 \\\n",
    "        --img_log_steps 10 \\\n",
    "        --cond_path  c.txt\\\n",
    "        --kernel imq \\\n",
    "        --kparams -0.5 1e+2 \\\n",
    "    '''\n",
    "    # constants\n",
    "    p_texture = cp.Param('texture', [0])\n",
    "    p_depth_process = cp.Param('depth_process', ['no'])\n",
    "    \n",
    "    place_extractor = 'resnet50_365'\n",
    "    #p_g_path = cp.Param('g_path', [g_path])\n",
    "    p_g_type = cp.ParamGroup(\n",
    "        ['g_type', 'g_path','cond_path','extractor_type','extractor_layer'],\n",
    "        [\n",
    "            ('celebAHQ.yaml', 'gan_data/celebAHQ_00/chkpts/model.pt',\n",
    "             [exu.list_files_of_extensions(glo.share_path('sample_list/celeba_list'),['.txt'])],\n",
    "             ['vgg_face'] ,[['17'], ['26'], ['35']]\n",
    "                                          \n",
    "             ),\n",
    "            \n",
    "            ('cub.yaml', 'CUB_data/model.pt', \n",
    "             [exu.list_files_of_extensions(glo.share_path('sample_list/cub_list'),['.txt'])],\n",
    "            ['vgg'] ,[['17'], ['26'], ['35']]\n",
    "             \n",
    "            ),\n",
    "            \n",
    "            ('lsun_bridge.yaml', 'gan_data/lsun_bridge/chkpts/model.pt', \n",
    "             [exu.list_files_of_extensions(glo.share_path('sample_list/bridge_list'),['.txt'])],\n",
    "            [place_extractor], []\n",
    "            ),\n",
    "            \n",
    "            ('lsun_bedroom.yaml', 'gan_data/lsun_bedrooms/chkpts/model.pt', \n",
    "             [exu.list_files_of_extensions(glo.share_path('sample_list/bedroom_list'),['.txt'])],\n",
    "            [place_extractor], []\n",
    "            ),\n",
    "\n",
    "            ('lsun_tower.yaml', 'gan_data/lsun_tower/chkpts/model.pt', \n",
    "             [exu.list_files_of_extensions(glo.share_path('sample_list/tower_list'),['.txt'])],\n",
    "            [place_extractor], []\n",
    "            ),\n",
    "            \n",
    "            ('mnist_dcgan', 'prob_models/mnist_dcgan/mnist_dcgan_ep40_bs64.pt', \n",
    "             [exu.list_files_of_extensions(glo.share_path('sample_list/tower_list'),['.txt'])],\n",
    "            [place_extractor], []\n",
    "            )\n",
    "\n",
    "        ],\n",
    "    )\n",
    "       \n",
    "    p_g_min = cp.Param('g_min', [-1.0])\n",
    "    p_g_max = cp.Param('g_max', [1.0])\n",
    "    p_logdir = cp.Param('logdir', [logdir])\n",
    "    p_device = cp.Param('device', ['gpu'])\n",
    "    p_n_opt_iter = cp.Param('n_opt_iter', [3000])\n",
    "    p_img_log_steps = cp.Param('img_log_steps', [1000])\n",
    "\n",
    "    # with some candidate values to try\n",
    "    p_n_sample = cp.Param('n_sample', [1]) \n",
    "    p_lr = cp.Param('lr', [5e-2,5e-3])\n",
    "    p_seed = cp.Param('seed', [9])\n",
    "    #p_cond_path = cp.Param('cond_path', list_cond_path)\n",
    "\n",
    "    p_kgroup = cp.ParamGroup(\n",
    "        ['kernel', 'kparams'],\n",
    "        [\n",
    "            ('linear', []),\n",
    "            # ('gauss', 10.0), \n",
    "            #('imq', [-0.5, 1.0]),\n",
    "            ('imq', [-0.5, 100.0])\n",
    "        ],\n",
    "        \n",
    "    )\n",
    "    args = cp.Args([p_texture,\n",
    "                    p_depth_process, p_g_type, p_g_min, p_g_max,\n",
    "                    p_logdir, p_device, p_n_opt_iter, p_img_log_steps,\n",
    "                    p_n_sample, p_lr, p_seed, p_kgroup])\n",
    "    return args"
   ]
  },
  {
   "cell_type": "code",
   "execution_count": 44,
   "metadata": {},
   "outputs": [],
   "source": [
    "\n",
    "\n",
    "bundle1 = dict(\n",
    "    logdir='log/',\n",
    ")\n",
    "args = args_spec(**bundle1)\n",
    "\n",
    "line_begin = 'python3 ../run_lars_gkmm.py '\n",
    "# potentially the destination script folder name should depend on the type\n",
    "# of bundle\n",
    "dest_path = 'sample_list_all_run'\n",
    "token_path = 'tokens'\n",
    "# print to stdout\n",
    "# args_processor = cp.APPrint(prefix=line_begin, suffix='\\n')\n",
    "# args_processor.iaf.value_formatter.list_value_sep = ', '\n",
    "# args_processor(args)\n",
    "\n",
    "# generate Bash files in a folder\n",
    "iaf = cp.IAFArgparse(\n",
    "    # separtor for different pair-value pairs\n",
    "    pv_sep=' \\\\\\n'\n",
    ")\n",
    "args_file_proc = cp.APPerBashFile(\n",
    "    dest_path=dest_path,\n",
    "    token_path=token_path,\n",
    "    iaf=iaf,\n",
    "    file_begin='#!/bin/bash',\n",
    "    file_end='# end of script',\n",
    "    line_begin=line_begin,\n",
    "    line_end='',\n",
    ")\n",
    "# for values which are lists, separate items in the list with the following\n",
    "# string\n",
    "args_file_proc.iaf.value_formatter.list_value_sep = ' '\n",
    "args_file_proc(args)"
   ]
  },
  {
   "cell_type": "code",
   "execution_count": 36,
   "metadata": {},
   "outputs": [
    {
     "data": {
      "text/plain": [
       "<cmdprod.main.Args at 0x7f4574c05eb8>"
      ]
     },
     "execution_count": 36,
     "metadata": {},
     "output_type": "execute_result"
    }
   ],
   "source": [
    "args"
   ]
  },
  {
   "cell_type": "code",
   "execution_count": null,
   "metadata": {},
   "outputs": [],
   "source": []
  }
 ],
 "metadata": {
  "kernelspec": {
   "display_name": "Python 3",
   "language": "python",
   "name": "python3"
  },
  "language_info": {
   "codemirror_mode": {
    "name": "ipython",
    "version": 3
   },
   "file_extension": ".py",
   "mimetype": "text/x-python",
   "name": "python",
   "nbconvert_exporter": "python",
   "pygments_lexer": "ipython3",
   "version": "3.5.2"
  }
 },
 "nbformat": 4,
 "nbformat_minor": 2
}
