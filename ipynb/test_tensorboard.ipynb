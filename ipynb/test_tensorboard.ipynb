{
 "cells": [
  {
   "cell_type": "markdown",
   "metadata": {},
   "source": [
    "For testing code to read from Tensorboard log files."
   ]
  },
  {
   "cell_type": "code",
   "execution_count": null,
   "metadata": {},
   "outputs": [],
   "source": [
    "%matplotlib inline\n",
    "%load_ext autoreload\n",
    "%autoreload 2\n",
    "\n",
    "#%config InlineBackend.figure_format = 'svg'\n",
    "#%config InlineBackend.figure_format = 'pdf'"
   ]
  },
  {
   "cell_type": "code",
   "execution_count": null,
   "metadata": {},
   "outputs": [],
   "source": [
    "import matplotlib\n",
    "import matplotlib.pyplot as plt\n",
    "import pandas as pd\n",
    "import os\n",
    "import autograd.numpy as np\n",
    "import torch\n",
    "import tensorflow as tf"
   ]
  },
  {
   "cell_type": "code",
   "execution_count": null,
   "metadata": {},
   "outputs": [],
   "source": [
    "import cadgan\n",
    "import cadgan.glo as glo"
   ]
  },
  {
   "cell_type": "markdown",
   "metadata": {},
   "source": [
    "-----------------"
   ]
  },
  {
   "cell_type": "code",
   "execution_count": null,
   "metadata": {},
   "outputs": [],
   "source": [
    "tb_log_folder = glo.result_folder('log_lars_celeba_batch')\n",
    "tb_log_fpath = os.path.join(\n",
    "    tb_log_folder, \n",
    "    'co_c.txt-dp_no-et_vgg_face-extractor_layers_17-gp_gan_datacelebAHQ_00chkptsmodel.pt-gt_celebAHQ.yaml-img_size_224-it_3000-k_imq-kp_-0.5 100.0-lr_0.01-n_1-s_8-t_29.12.2018_044026-te_0.0-zpen_TPNull',\n",
    "    'events.out.tfevents.1546058426.4cf951acd140'\n",
    ")"
   ]
  },
  {
   "cell_type": "code",
   "execution_count": null,
   "metadata": {},
   "outputs": [],
   "source": [
    "tb_log_fpath"
   ]
  },
  {
   "cell_type": "markdown",
   "metadata": {},
   "source": [
    "## Read one log file"
   ]
  },
  {
   "cell_type": "code",
   "execution_count": null,
   "metadata": {
    "scrolled": true
   },
   "outputs": [],
   "source": [
    "for i, event in enumerate(tf.train.summary_iterator(tb_log_fpath)):\n",
    "    value = event.summary.value\n",
    "    for v in value:\n",
    "        if v.HasField('image'):\n",
    "            aaa = v\n",
    "            print(event)\n",
    "    if i > 20:\n",
    "        break\n",
    "    \n",
    "#         if value.HasField('simple_value'):\n",
    "#             print(value.simple_value)"
   ]
  },
  {
   "cell_type": "code",
   "execution_count": null,
   "metadata": {},
   "outputs": [],
   "source": []
  },
  {
   "cell_type": "markdown",
   "metadata": {},
   "source": [
    "## Iterate over all event files"
   ]
  },
  {
   "cell_type": "code",
   "execution_count": null,
   "metadata": {},
   "outputs": [],
   "source": [
    "def iter_event_files(log_folder, event_file_pattern='events.out.*'):\n",
    "    from pathlib import Path\n",
    "\n",
    "    pathlist = Path(tb_log_folder).glob('**/{}'.format(event_file_pattern))\n",
    "    for fpath in pathlist:\n",
    "        # because path is object not string\n",
    "        path_in_str = str(fpath)\n",
    "        yield path_in_str"
   ]
  },
  {
   "cell_type": "code",
   "execution_count": null,
   "metadata": {
    "scrolled": true
   },
   "outputs": [],
   "source": [
    "for fpath in iter_event_files(tb_log_folder):\n",
    "    print(fpath)"
   ]
  },
  {
   "cell_type": "code",
   "execution_count": null,
   "metadata": {},
   "outputs": [],
   "source": []
  },
  {
   "cell_type": "code",
   "execution_count": null,
   "metadata": {},
   "outputs": [],
   "source": []
  },
  {
   "cell_type": "code",
   "execution_count": null,
   "metadata": {},
   "outputs": [],
   "source": []
  }
 ],
 "metadata": {
  "kernelspec": {
   "display_name": "Python 3",
   "language": "python",
   "name": "python3"
  },
  "language_info": {
   "codemirror_mode": {
    "name": "ipython",
    "version": 3
   },
   "file_extension": ".py",
   "mimetype": "text/x-python",
   "name": "python",
   "nbconvert_exporter": "python",
   "pygments_lexer": "ipython3",
   "version": "3.6.6"
  }
 },
 "nbformat": 4,
 "nbformat_minor": 2
}
