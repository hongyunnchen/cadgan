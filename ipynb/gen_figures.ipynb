{
 "cells": [
  {
   "cell_type": "markdown",
   "metadata": {},
   "source": [
    "A notebook to support making of figures for writing."
   ]
  },
  {
   "cell_type": "code",
   "execution_count": 1,
   "metadata": {},
   "outputs": [
    {
     "name": "stdout",
     "output_type": "stream",
     "text": [
      "The autoreload extension is already loaded. To reload it, use:\n",
      "  %reload_ext autoreload\n"
     ]
    }
   ],
   "source": [
    "%matplotlib inline\n",
    "%load_ext autoreload\n",
    "%autoreload 2\n",
    "\n",
    "#%config InlineBackend.figure_format = 'svg'\n",
    "#%config InlineBackend.figure_format = 'pdf'"
   ]
  },
  {
   "cell_type": "code",
   "execution_count": 2,
   "metadata": {},
   "outputs": [],
   "source": [
    "import kbrgan\n",
    "import kbrgan.kernel as kernel\n",
    "import kbrgan.glo as glo\n",
    "import kbrgan.main as main\n",
    "import kbrgan.net.net as net\n",
    "import kbrgan.gen as gen\n",
    "import kbrgan.plot as plot\n",
    "import kbrgan.util as util\n",
    "\n",
    "import matplotlib\n",
    "import matplotlib.pyplot as plt\n",
    "import os\n",
    "import numpy as np\n",
    "import scipy.stats as stats\n",
    "import torch\n",
    "import torch.nn.functional as F\n",
    "import torch.nn as nn\n",
    "import torchvision\n",
    "import torchvision.transforms as transforms"
   ]
  },
  {
   "cell_type": "code",
   "execution_count": 3,
   "metadata": {},
   "outputs": [],
   "source": [
    "# font options\n",
    "font = {\n",
    "    #'family' : 'normal',\n",
    "    #'weight' : 'bold',\n",
    "    'size'   : 18\n",
    "}\n",
    "\n",
    "plt.rc('font', **font)\n",
    "plt.rc('lines', linewidth=2)\n",
    "matplotlib.rcParams['pdf.fonttype'] = 42\n",
    "matplotlib.rcParams['ps.fonttype'] = 42"
   ]
  },
  {
   "cell_type": "markdown",
   "metadata": {},
   "source": [
    "## Latex commands"
   ]
  },
  {
   "cell_type": "markdown",
   "metadata": {},
   "source": [
    "Generate Latex commands to include figures from a folder."
   ]
  },
  {
   "cell_type": "code",
   "execution_count": 11,
   "metadata": {},
   "outputs": [],
   "source": [
    "def print_list_includegraphics(\n",
    "    folder_path, n, break_every, fname_func, figwidth, start_index=0):\n",
    "    \"\"\"\n",
    "    fname_func: index |-> file name\n",
    "    break_every: an integer. Include a line break every this many images.\n",
    "    \"\"\"\n",
    "    print('\\\\newcommand{{\\\\mywidth}}{{{}}}'.format(figwidth))\n",
    "    for i in range(start_index, n+start_index):\n",
    "        fname = fname_func(i)\n",
    "        img_path = os.path.join(folder_path, fname)\n",
    "        cmd = r'\\includegraphics[width=\\mywidth]{{{}}}'.format(img_path)\n",
    "        if (i+1)%break_every==0:\n",
    "            cmd += '\\\\\\\\'\n",
    "        else:\n",
    "            cmd += '%'\n",
    "        print(cmd)\n",
    "#         print()\n",
    "    "
   ]
  },
  {
   "cell_type": "code",
   "execution_count": 12,
   "metadata": {
    "scrolled": true
   },
   "outputs": [
    {
     "name": "stdout",
     "output_type": "stream",
     "text": [
      "\\newcommand{\\mywidth}{15mm}\n",
      "\\includegraphics[width=\\mywidth]{img/prior_samples/celebahq_lars/0040.jpg}%\n",
      "\\includegraphics[width=\\mywidth]{img/prior_samples/celebahq_lars/0041.jpg}\\\\\n",
      "\\includegraphics[width=\\mywidth]{img/prior_samples/celebahq_lars/0042.jpg}%\n",
      "\\includegraphics[width=\\mywidth]{img/prior_samples/celebahq_lars/0043.jpg}%\n",
      "\\includegraphics[width=\\mywidth]{img/prior_samples/celebahq_lars/0044.jpg}%\n",
      "\\includegraphics[width=\\mywidth]{img/prior_samples/celebahq_lars/0045.jpg}%\n",
      "\\includegraphics[width=\\mywidth]{img/prior_samples/celebahq_lars/0046.jpg}%\n",
      "\\includegraphics[width=\\mywidth]{img/prior_samples/celebahq_lars/0047.jpg}\\\\\n",
      "\\includegraphics[width=\\mywidth]{img/prior_samples/celebahq_lars/0048.jpg}%\n",
      "\\includegraphics[width=\\mywidth]{img/prior_samples/celebahq_lars/0049.jpg}%\n",
      "\\includegraphics[width=\\mywidth]{img/prior_samples/celebahq_lars/0050.jpg}%\n",
      "\\includegraphics[width=\\mywidth]{img/prior_samples/celebahq_lars/0051.jpg}%\n",
      "\\includegraphics[width=\\mywidth]{img/prior_samples/celebahq_lars/0052.jpg}%\n",
      "\\includegraphics[width=\\mywidth]{img/prior_samples/celebahq_lars/0053.jpg}\\\\\n",
      "\\includegraphics[width=\\mywidth]{img/prior_samples/celebahq_lars/0054.jpg}%\n",
      "\\includegraphics[width=\\mywidth]{img/prior_samples/celebahq_lars/0055.jpg}%\n",
      "\\includegraphics[width=\\mywidth]{img/prior_samples/celebahq_lars/0056.jpg}%\n",
      "\\includegraphics[width=\\mywidth]{img/prior_samples/celebahq_lars/0057.jpg}%\n",
      "\\includegraphics[width=\\mywidth]{img/prior_samples/celebahq_lars/0058.jpg}%\n",
      "\\includegraphics[width=\\mywidth]{img/prior_samples/celebahq_lars/0059.jpg}\\\\\n",
      "\\includegraphics[width=\\mywidth]{img/prior_samples/celebahq_lars/0060.jpg}%\n",
      "\\includegraphics[width=\\mywidth]{img/prior_samples/celebahq_lars/0061.jpg}%\n",
      "\\includegraphics[width=\\mywidth]{img/prior_samples/celebahq_lars/0062.jpg}%\n",
      "\\includegraphics[width=\\mywidth]{img/prior_samples/celebahq_lars/0063.jpg}%\n",
      "\\includegraphics[width=\\mywidth]{img/prior_samples/celebahq_lars/0064.jpg}%\n",
      "\\includegraphics[width=\\mywidth]{img/prior_samples/celebahq_lars/0065.jpg}\\\\\n",
      "\\includegraphics[width=\\mywidth]{img/prior_samples/celebahq_lars/0066.jpg}%\n",
      "\\includegraphics[width=\\mywidth]{img/prior_samples/celebahq_lars/0067.jpg}%\n",
      "\\includegraphics[width=\\mywidth]{img/prior_samples/celebahq_lars/0068.jpg}%\n",
      "\\includegraphics[width=\\mywidth]{img/prior_samples/celebahq_lars/0069.jpg}%\n",
      "\\includegraphics[width=\\mywidth]{img/prior_samples/celebahq_lars/0070.jpg}%\n",
      "\\includegraphics[width=\\mywidth]{img/prior_samples/celebahq_lars/0071.jpg}\\\\\n",
      "\\includegraphics[width=\\mywidth]{img/prior_samples/celebahq_lars/0072.jpg}%\n",
      "\\includegraphics[width=\\mywidth]{img/prior_samples/celebahq_lars/0073.jpg}%\n",
      "\\includegraphics[width=\\mywidth]{img/prior_samples/celebahq_lars/0074.jpg}%\n",
      "\\includegraphics[width=\\mywidth]{img/prior_samples/celebahq_lars/0075.jpg}%\n",
      "\\includegraphics[width=\\mywidth]{img/prior_samples/celebahq_lars/0076.jpg}%\n",
      "\\includegraphics[width=\\mywidth]{img/prior_samples/celebahq_lars/0077.jpg}\\\\\n",
      "\\includegraphics[width=\\mywidth]{img/prior_samples/celebahq_lars/0078.jpg}%\n",
      "\\includegraphics[width=\\mywidth]{img/prior_samples/celebahq_lars/0079.jpg}%\n"
     ]
    }
   ],
   "source": [
    "print_list_includegraphics(\n",
    "#     'img/prior_samples/tower_lars/', \n",
    "    'img/prior_samples/celebahq_lars/', \n",
    "    n=40, break_every=6, \n",
    "    fname_func=lambda i: '{:04d}.jpg'.format(i),\n",
    "    figwidth='15mm',\n",
    "    start_index=40\n",
    ")"
   ]
  },
  {
   "cell_type": "code",
   "execution_count": null,
   "metadata": {},
   "outputs": [],
   "source": []
  },
  {
   "cell_type": "code",
   "execution_count": null,
   "metadata": {},
   "outputs": [],
   "source": []
  },
  {
   "cell_type": "code",
   "execution_count": null,
   "metadata": {},
   "outputs": [],
   "source": []
  },
  {
   "cell_type": "code",
   "execution_count": null,
   "metadata": {},
   "outputs": [],
   "source": []
  },
  {
   "cell_type": "code",
   "execution_count": null,
   "metadata": {},
   "outputs": [],
   "source": []
  },
  {
   "cell_type": "code",
   "execution_count": null,
   "metadata": {},
   "outputs": [],
   "source": []
  },
  {
   "cell_type": "code",
   "execution_count": null,
   "metadata": {},
   "outputs": [],
   "source": []
  }
 ],
 "metadata": {
  "kernelspec": {
   "display_name": "Python 3",
   "language": "python",
   "name": "python3"
  },
  "language_info": {
   "codemirror_mode": {
    "name": "ipython",
    "version": 3
   },
   "file_extension": ".py",
   "mimetype": "text/x-python",
   "name": "python",
   "nbconvert_exporter": "python",
   "pygments_lexer": "ipython3",
   "version": "3.6.6"
  }
 },
 "nbformat": 4,
 "nbformat_minor": 2
}
