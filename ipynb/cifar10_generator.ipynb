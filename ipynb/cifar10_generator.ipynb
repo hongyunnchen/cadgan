{
 "cells": [
  {
   "cell_type": "markdown",
   "metadata": {},
   "source": [
    "Notebook to explore generative models for CIFAR10 (or subsets of it)"
   ]
  },
  {
   "cell_type": "code",
   "execution_count": null,
   "metadata": {
    "scrolled": true
   },
   "outputs": [],
   "source": [
    "%matplotlib inline\n",
    "%load_ext autoreload\n",
    "%autoreload 2\n",
    "\n",
    "#%config InlineBackend.figure_format = 'svg'\n",
    "#%config InlineBackend.figure_format = 'pdf'"
   ]
  },
  {
   "cell_type": "code",
   "execution_count": null,
   "metadata": {},
   "outputs": [],
   "source": [
    "import cadgan\n",
    "import cadgan.kernel as kernel\n",
    "import cadgan.glo as glo\n",
    "import cadgan.main as main\n",
    "import cadgan.plot as plot\n",
    "import cadgan.embed as embed\n",
    "import cadgan.net as net\n",
    "import cadgan.util as util\n",
    "\n",
    "import matplotlib\n",
    "import matplotlib.pyplot as plt\n",
    "import os\n",
    "import numpy as np\n",
    "import scipy.stats as stats\n",
    "import torch\n",
    "import torch.nn as nn\n",
    "import torch.nn.functional as F\n",
    "import torchvision\n",
    "import torchvision.transforms as transforms"
   ]
  },
  {
   "cell_type": "code",
   "execution_count": null,
   "metadata": {},
   "outputs": [],
   "source": [
    "# font options\n",
    "font = {\n",
    "    #'family' : 'normal',\n",
    "    #'weight' : 'bold',\n",
    "    'size'   : 18\n",
    "}\n",
    "\n",
    "plt.rc('font', **font)\n",
    "plt.rc('lines', linewidth=2)\n",
    "matplotlib.rcParams['pdf.fonttype'] = 42\n",
    "matplotlib.rcParams['ps.fonttype'] = 42"
   ]
  },
  {
   "cell_type": "code",
   "execution_count": null,
   "metadata": {},
   "outputs": [],
   "source": [
    "use_cuda = True and torch.cuda.is_available()\n",
    "device = torch.device(\"cuda\" if use_cuda else \"cpu\")\n",
    "tensor_type = torch.cuda.FloatTensor if use_cuda else torch.FloatTensor\n",
    "# torch.set_default_tensor_type(tensor_type)"
   ]
  },
  {
   "cell_type": "markdown",
   "metadata": {},
   "source": [
    "## CIFAR10 data"
   ]
  },
  {
   "cell_type": "code",
   "execution_count": null,
   "metadata": {},
   "outputs": [],
   "source": [
    "import cadgan.cifar10.util as cifar10_util\n",
    "print('CIFAR10 classes and their indices:')\n",
    "cifar10_class_inds = cifar10_util.label_class_list()\n",
    "display(cifar10_class_inds)"
   ]
  },
  {
   "cell_type": "code",
   "execution_count": null,
   "metadata": {
    "scrolled": true
   },
   "outputs": [],
   "source": [
    "# classes = [0,]\n",
    "classes = [1]\n",
    "Tr = cifar10_util.load_cifar10_class_subsets(classes)"
   ]
  },
  {
   "cell_type": "code",
   "execution_count": null,
   "metadata": {
    "scrolled": false
   },
   "outputs": [],
   "source": [
    "# see the data of the selected classes\n",
    "\n",
    "# randomly select a few images\n",
    "k = 3*8\n",
    "nTr = Tr.tensors[0].shape[0]\n",
    "inds = np.random.choice(nTr, size=k, replace=False)\n",
    "xs = [Tr[i][0] for i in inds] \n",
    "# classes\n",
    "ys = [Tr[i][1] for i in inds] \n",
    "\n",
    "# x = x.to(device)\n",
    "print('{} randomly chosen images:'.format(k))\n",
    "plot.show_torch_imgs(xs, figsize=(12, 6), normalize=False)"
   ]
  },
  {
   "cell_type": "markdown",
   "metadata": {},
   "source": [
    "## Load generators\n",
    "\n",
    "These generators are trained using code in `cadgan.cifar10`. For instance, `cadgan.cifar10.dcgan` can be executed to train DCGAN generators."
   ]
  },
  {
   "cell_type": "code",
   "execution_count": null,
   "metadata": {
    "scrolled": true
   },
   "outputs": [],
   "source": [
    "n_epochs = 300\n",
    "batch_size = 32\n",
    "class_summary = ''.join(map(str, classes))\n",
    "folder_name = 'cifar10_c{}-dcgan'.format(class_summary)\n",
    "model_name = '{}-ep{}_bs{}.pt'.format(folder_name, n_epochs, batch_size)\n",
    "model_path = glo.prob_model_folder(folder_name, model_name)\n",
    "print('model path: ', model_path)"
   ]
  },
  {
   "cell_type": "code",
   "execution_count": null,
   "metadata": {
    "scrolled": true
   },
   "outputs": [],
   "source": [
    "if not os.path.exists(model_path):\n",
    "    #use this if you want to train them manually\n",
    "    #!python ../cadgan/cifar10/dcgan.py --classes=1 --n_epochs=300 --batch_size=32\n",
    "    \n",
    "    #or download from google drive\n",
    "    #note that you need to find file id for the corresponding model file\n",
    "    #1vst7cCckUaIKNbYxVMNhgN70pMjXP85e == cifar10_c1-dcgan-ep300_bs32.pt\n",
    "    from google_drive_downloader import GoogleDriveDownloader as gdd\n",
    "    gdd.download_file_from_google_drive(file_id='1vst7cCckUaIKNbYxVMNhgN70pMjXP85e',\n",
    "                                        dest_path=model_path)"
   ]
  },
  {
   "cell_type": "code",
   "execution_count": null,
   "metadata": {},
   "outputs": [],
   "source": [
    "# load the model\n",
    "import cadgan.cifar10.dcgan as cifar10_dcgan\n",
    "from cadgan.cifar10.dcgan import PatsornGenerator1\n",
    "generator = torch.load(model_path, map_location=lambda storage, loc: storage)\n",
    "print(generator)"
   ]
  },
  {
   "cell_type": "markdown",
   "metadata": {},
   "source": [
    "Sample from the generator"
   ]
  },
  {
   "cell_type": "code",
   "execution_count": null,
   "metadata": {
    "scrolled": false
   },
   "outputs": [],
   "source": [
    "n_sample = 4*8\n",
    "with torch.no_grad():\n",
    "    Xsam = generator.eval().sample(n_sample)\n",
    "\n",
    "print('{} sampled images from the model'.format(n_sample))\n",
    "plot.show_torch_imgs(Xsam, figsize=(12, 6), normalize=False)"
   ]
  },
  {
   "cell_type": "markdown",
   "metadata": {},
   "source": [
    "Interpolation in the latent space"
   ]
  },
  {
   "cell_type": "code",
   "execution_count": null,
   "metadata": {},
   "outputs": [],
   "source": [
    "with torch.no_grad():\n",
    "    gev = generator.eval()\n",
    "    z_from = gev.sample_noise(1)\n",
    "    z_to = gev.sample_noise(1)"
   ]
  },
  {
   "cell_type": "code",
   "execution_count": null,
   "metadata": {},
   "outputs": [],
   "source": [
    "# linear interpolation\n",
    "a = torch.linspace(0, 1, 4*8)\n",
    "A = torch.stack((a, 1.0-a), 1)\n",
    "Z_start = torch.cat((z_from, z_to))\n",
    "Z = A.mm(Z_start)\n",
    "\n",
    "# sample from the generator using the interpolated noise vectors\n",
    "with torch.no_grad():\n",
    "    Xsam = gev(Z)\n",
    "    \n",
    "# show the images\n",
    "plot.show_torch_imgs(Xsam, figsize=(12, 6))"
   ]
  },
  {
   "cell_type": "code",
   "execution_count": null,
   "metadata": {},
   "outputs": [],
   "source": []
  }
 ],
 "metadata": {
  "kernelspec": {
   "display_name": "Python 3",
   "language": "python",
   "name": "python3"
  },
  "language_info": {
   "codemirror_mode": {
    "name": "ipython",
    "version": 3
   },
   "file_extension": ".py",
   "mimetype": "text/x-python",
   "name": "python",
   "nbconvert_exporter": "python",
   "pygments_lexer": "ipython3",
   "version": "3.7.3"
  }
 },
 "nbformat": 4,
 "nbformat_minor": 2
}
