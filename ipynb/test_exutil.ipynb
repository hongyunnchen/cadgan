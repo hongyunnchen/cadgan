{
 "cells": [
  {
   "cell_type": "markdown",
   "metadata": {},
   "source": [
    "Notebook for testing `kbrgan.ex.exutil`"
   ]
  },
  {
   "cell_type": "markdown",
   "metadata": {},
   "source": [
    "## Load all images in a folder"
   ]
  },
  {
   "cell_type": "code",
   "execution_count": null,
   "metadata": {},
   "outputs": [],
   "source": [
    "%matplotlib inline\n",
    "%load_ext autoreload\n",
    "%autoreload 2\n",
    "\n",
    "#%config InlineBackend.figure_format = 'svg'\n",
    "#%config InlineBackend.figure_format = 'pdf'"
   ]
  },
  {
   "cell_type": "code",
   "execution_count": null,
   "metadata": {},
   "outputs": [],
   "source": [
    "import kbrgan\n",
    "import kbrgan.imutil as imutil\n",
    "import kbrgan.plot as plot\n",
    "import kbrgan.glo as glo\n",
    "import matplotlib\n",
    "import matplotlib.pyplot as plt"
   ]
  },
  {
   "cell_type": "code",
   "execution_count": null,
   "metadata": {},
   "outputs": [],
   "source": [
    "import glob\n",
    "import os\n",
    "\n",
    "def load_resize_images(img_dir, extensions=['.jpg', '.png'], resize=256):\n",
    "    \"\"\"\n",
    "    Load images in the specified folder and return as a list of numpy arrays.\n",
    "    Do not traverse subfolders. \n",
    "    \n",
    "    img_dir: path to folder containing images (and possibly other files)\n",
    "    extensions: only images with these extensions will be loaded\n",
    "    \"\"\"\n",
    "    #dir_no_slash = os.path.normpath(img_dir)\n",
    "    list_patterns = [os.path.join(img_dir, '*'+ex) for ex in extensions]\n",
    "    imgs = []\n",
    "    for glob_pat in list_patterns:\n",
    "        for img_path in glob.glob(glob_pat):\n",
    "            try:\n",
    "                loaded = imutil.load_resize_image(img_path, resize=resize)\n",
    "                imgs.append(loaded)\n",
    "            except Exception as E:\n",
    "                print(E)\n",
    "                continue\n",
    "    return imgs"
   ]
  },
  {
   "cell_type": "code",
   "execution_count": null,
   "metadata": {
    "scrolled": true
   },
   "outputs": [],
   "source": [
    "imgs_folder = glo.share_path('face_imgs')\n",
    "imgs = load_resize_images(imgs_folder, resize=100)\n",
    "\n",
    "for im in imgs:\n",
    "    plt.figure(figsize=(4,4))\n",
    "    plt.imshow(im)"
   ]
  },
  {
   "cell_type": "markdown",
   "metadata": {},
   "source": [
    "## All possible subsets"
   ]
  },
  {
   "cell_type": "code",
   "execution_count": null,
   "metadata": {},
   "outputs": [],
   "source": [
    "import itertools as itt\n",
    "import kbrgan.ex.exutil as exu"
   ]
  },
  {
   "cell_type": "code",
   "execution_count": null,
   "metadata": {},
   "outputs": [],
   "source": [
    "for c in exu.subsets_of_sizes(['a', 1, 2, 'b'], [1, 2]):\n",
    "    print(c)"
   ]
  },
  {
   "cell_type": "code",
   "execution_count": null,
   "metadata": {},
   "outputs": [],
   "source": [
    "exu.list_files_of_extensions(imgs_folder, ['.png'])"
   ]
  },
  {
   "cell_type": "code",
   "execution_count": null,
   "metadata": {
    "scrolled": true
   },
   "outputs": [],
   "source": [
    "for f in exu.subsets_of_files(imgs_folder, ['.png', '.jpg'], sizes=[1, 2]):\n",
    "    print(f)"
   ]
  },
  {
   "cell_type": "code",
   "execution_count": null,
   "metadata": {},
   "outputs": [],
   "source": [
    "exu.write_filename_combinations(\n",
    "    imgs_folder, extensions=['.png', '.jpg'], sizes=[1,2], \n",
    "    dest_folder='input_lists', \n",
    "    relative_to=glo.share_path()\n",
    ")\n"
   ]
  },
  {
   "cell_type": "code",
   "execution_count": null,
   "metadata": {},
   "outputs": [],
   "source": []
  },
  {
   "cell_type": "code",
   "execution_count": null,
   "metadata": {},
   "outputs": [],
   "source": []
  },
  {
   "cell_type": "code",
   "execution_count": null,
   "metadata": {},
   "outputs": [],
   "source": []
  }
 ],
 "metadata": {
  "kernelspec": {
   "display_name": "Python 3",
   "language": "python",
   "name": "python3"
  },
  "language_info": {
   "codemirror_mode": {
    "name": "ipython",
    "version": 3
   },
   "file_extension": ".py",
   "mimetype": "text/x-python",
   "name": "python",
   "nbconvert_exporter": "python",
   "pygments_lexer": "ipython3",
   "version": "3.6.6"
  }
 },
 "nbformat": 4,
 "nbformat_minor": 2
}
